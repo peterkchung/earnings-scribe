{
 "cells": [
  {
   "cell_type": "markdown",
   "metadata": {},
   "source": [
    "# Transcribe Earnings Conference Calls\n",
    "## Use Deep Learnings Models\n",
    "\n",
    "To start, we'll be testing the [deepgram.com](deepgram.com) platform."
   ]
  },
  {
   "cell_type": "code",
   "execution_count": 5,
   "metadata": {},
   "outputs": [],
   "source": [
    "from deepgram import Deepgram\n",
    "import json\n",
    "import os\n",
    "from dotenv import load_dotenv\n",
    "\n",
    "# --- Load environment variables\n",
    "load_dotenv()\n",
    "\n",
    "DEEPGRAM_API_KEY = os.environ.get('DEEPGRAM_API_KEY')"
   ]
  },
  {
   "cell_type": "code",
   "execution_count": null,
   "metadata": {},
   "outputs": [],
   "source": [
    "# --- Initializes the Deepgram SDK\n",
    "deepgram = Deepgram(DEEPGRAM_API_KEY)\n",
    "\n",
    "# --- Open the audio file\n",
    "PATH_TO_FILE = 'some/file.wav'\n",
    "\n",
    "with open(PATH_TO_FILE, 'rb') as audio:\n",
    "    # ...or replace mimetype as appropriate\n",
    "    source = {'buffer': audio, 'mimetype': 'audio/wav'}\n",
    "    response = deepgram.transcription.sync_prerecorded(source, {'punctuate': True})\n",
    "    print(json.dumps(response, indent=4))"
   ]
  }
 ],
 "metadata": {
  "kernelspec": {
   "display_name": ".venv",
   "language": "python",
   "name": "python3"
  },
  "language_info": {
   "codemirror_mode": {
    "name": "ipython",
    "version": 3
   },
   "file_extension": ".py",
   "mimetype": "text/x-python",
   "name": "python",
   "nbconvert_exporter": "python",
   "pygments_lexer": "ipython3",
   "version": "3.9.5"
  }
 },
 "nbformat": 4,
 "nbformat_minor": 2
}
