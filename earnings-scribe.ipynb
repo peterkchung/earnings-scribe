{
 "cells": [
  {
   "cell_type": "markdown",
   "metadata": {},
   "source": [
    "# Transcribe Earnings Conference Calls\n",
    "## Use Deep Learnings Models\n",
    "\n",
    "Testing the [deepgram.com](deepgram.com) platform."
   ]
  },
  {
   "cell_type": "code",
   "execution_count": 5,
   "metadata": {},
   "outputs": [],
   "source": [
    "import pandas as pd\n",
    "import json\n",
    "import os\n",
    "from dotenv import load_dotenv\n",
    "\n",
    "from deepgram import Deepgram"
   ]
  },
  {
   "cell_type": "code",
   "execution_count": 6,
   "metadata": {},
   "outputs": [],
   "source": [
    "df = pd.read_csv('input/DJIA.csv', index_col=0)"
   ]
  },
  {
   "cell_type": "markdown",
   "metadata": {},
   "source": [
    "## Dow Jones Industrial Avearge\n",
    "*Ticker - Company - Source of earnings calls (site) - Type (audio/video, format)*\n",
    "  \n",
    "MMM - 3M  \n",
    "AXP - American Express  \n",
    "AMGN - Amgen  \n",
    "AAPL - Apple  \n",
    "BA - Boeing  \n",
    "CAT - Caterpillar  \n",
    "CVX - Chevron  \n",
    "CSCO - Cisco  \n",
    "KO - Coca-Cola  \n",
    "DIS - Disney  \n",
    "DOW - Dow  \n",
    "GS - Goldman Sachs  \n",
    "HD - Home Depot  \n",
    "HON - Honeywell  \n",
    "IBM - IBM  \n",
    "INTC - Intel  \n",
    "JNJ - Johnson & Johnson  \n",
    "JPM - JPMorgan Chase  \n",
    "MCD - McDonald's  \n",
    "MRK - Merck  \n",
    "MSFT - Microsoft  \n",
    "NKE - Nike  \n",
    "PG - Procter & Gamble  \n",
    "CRM - Salesforce  \n",
    "TRV - Travelers  \n",
    "UNH - UnitedHealth Group  \n",
    "VZ - Verizon  \n",
    "V - Visa  \n",
    "WBA - Walgreens Boots Alliance  \n",
    "WMT - Walmart - youtube.com - video  "
   ]
  },
  {
   "cell_type": "code",
   "execution_count": null,
   "metadata": {},
   "outputs": [],
   "source": []
  },
  {
   "cell_type": "code",
   "execution_count": null,
   "metadata": {},
   "outputs": [],
   "source": [
    "# --- Load environment variables\n",
    "load_dotenv(override=True)\n",
    "\n",
    "DEEPGRAM_API_KEY = os.environ.get('DEEPGRAM_API_KEY')\n",
    "DEEPGRAM_API_KEY\n",
    "\n",
    "# --- Initializes the Deepgram SDK\n",
    "deepgram = Deepgram(DEEPGRAM_API_KEY)\n",
    "\n",
    "# --- Open the audio file\n",
    "PATH_TO_FILE = 'some/file.wav'\n",
    "\n",
    "with open(PATH_TO_FILE, 'rb') as audio:\n",
    "    # ...or replace mimetype as appropriate\n",
    "    source = {'buffer': audio, 'mimetype': 'audio/wav'}\n",
    "    response = deepgram.transcription.sync_prerecorded(source, {'punctuate': True})\n",
    "    print(json.dumps(response, indent=4))"
   ]
  },
  {
   "cell_type": "code",
   "execution_count": null,
   "metadata": {},
   "outputs": [],
   "source": [
    "from deepgram import Deepgram\n",
    "import asyncio, json\n",
    "\n",
    "DEEPGRAM_API_KEY = 'YOUR_API_KEY'\n",
    "PATH_TO_FILE = 'some/file.wav'\n",
    "FILE_URL = 'https://static.deepgram.com/examples/interview_speech-analytics.wav'\n",
    "\n",
    "async def main():\n",
    "  # Initializes the Deepgram SDK\n",
    "  deepgram = Deepgram(DEEPGRAM_API_KEY)\n",
    "  source = {'url': FILE_URL}\n",
    "  response = await asyncio.create_task(\n",
    "      deepgram.transcription.prerecorded(source, {\n",
    "          'smart_format': True,\n",
    "          'model': 'nova',\n",
    "      }))\n",
    "  print(json.dumps(response, indent=4))\n",
    "\n",
    "asyncio.run(main())\n",
    "\n",
    "def local():\n",
    "    # Initializes the Deepgram SDK\n",
    "    deepgram = Deepgram(DEEPGRAM_API_KEY)\n",
    "    # Open the audio file\n",
    "    with open(PATH_TO_FILE, 'rb') as audio:\n",
    "        # ...or replace mimetype as appropriate\n",
    "        source = {'buffer': audio, 'mimetype': 'audio/wav'}\n",
    "        response = deepgram.transcription.sync_prerecorded(source, {'punctuate': True})\n",
    "        print(json.dumps(response, indent=4))\n"
   ]
  },
  {
   "cell_type": "code",
   "execution_count": null,
   "metadata": {},
   "outputs": [],
   "source": [
    "# Set this variable to the path of the output file you wish to read\n",
    "OUTPUT = 'Pick your favorite output json file :)'\n",
    "\n",
    "# The JSON is loaded with information, but if you just want to read the\n",
    "# transcript, run the code below!\n",
    "def print_transcript(transcription_file):\n",
    "  with open(transcription_file, \"r\") as file:\n",
    "        data = json.load(file)\n",
    "        result = data['results']['channels'][0]['alternatives'][0]['transcript']\n",
    "        result = result.split('.')\n",
    "        for sentence in result:\n",
    "          print(sentence + '.')\n",
    "\n",
    "print_transcript(OUTPUT)"
   ]
  },
  {
   "cell_type": "code",
   "execution_count": null,
   "metadata": {},
   "outputs": [],
   "source": [
    "'''\n",
    "- take sources of calls\n",
    "- transcribe them\n",
    "- pretty them up into a json format\n",
    "\n",
    "'''"
   ]
  },
  {
   "cell_type": "code",
   "execution_count": null,
   "metadata": {},
   "outputs": [],
   "source": [
    "request_id = '98370950-e49c-4d61-ade9-1097e138c3f1'\n"
   ]
  }
 ],
 "metadata": {
  "kernelspec": {
   "display_name": ".venv",
   "language": "python",
   "name": "python3"
  },
  "language_info": {
   "codemirror_mode": {
    "name": "ipython",
    "version": 3
   },
   "file_extension": ".py",
   "mimetype": "text/x-python",
   "name": "python",
   "nbconvert_exporter": "python",
   "pygments_lexer": "ipython3",
   "version": "3.9.5"
  }
 },
 "nbformat": 4,
 "nbformat_minor": 2
}
